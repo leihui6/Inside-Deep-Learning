{
 "cells": [
  {
   "cell_type": "code",
   "execution_count": 1,
   "metadata": {
    "collapsed": true
   },
   "outputs": [],
   "source": [
    "import numpy as np\n",
    "import torch\n",
    "import timeit\n",
    "import seaborn as sns\n",
    "import matplotlib.pyplot as plt\n",
    "\n",
    "%matplotlib inline\n",
    "from IPython.display import set_matplotlib_formats"
   ]
  },
  {
   "cell_type": "markdown",
   "source": [
    "### Write a series of for loops that compute a average value in torch_tensor3d"
   ],
   "metadata": {
    "collapsed": false
   }
  },
  {
   "cell_type": "code",
   "execution_count": 2,
   "outputs": [],
   "source": [
    "def calc_avg_val_by_fors(t3d : torch.tensor) -> float:\n",
    "    \"\"\"\n",
    "    calculate avg by iterating through a 3D tensor\n",
    "    :param t3d: a 3D tensor\n",
    "    :return: returns average value of a 3D tensor\n",
    "    \"\"\"\n",
    "    sum = 0\n",
    "    for tn in t3d:                  # iterate through all tensors\n",
    "        for ti in tn:               # iterate each tensor\n",
    "            for i in ti:            # iterate each tensor item\n",
    "                sum += i.item()\n",
    "    avg = sum / torch.numel(t3d)    # number of items in a tensor\n",
    "    return avg\n"
   ],
   "metadata": {
    "collapsed": false
   }
  },
  {
   "cell_type": "code",
   "execution_count": 3,
   "outputs": [],
   "source": [
    "# our predifined tensor\n",
    "torch_tensor3d = torch.tensor([\n",
    "                                [\n",
    "                                [ 1,  2,  3],\n",
    "                                [ 4,  5,  6],\n",
    "                                ],\n",
    "                                [\n",
    "                                [ 7,  8,  9],\n",
    "                                [10, 11, 12],\n",
    "                                ],\n",
    "                                [\n",
    "                                [13, 14, 15],\n",
    "                                [16, 17, 18],\n",
    "                                ],\n",
    "                                [\n",
    "                                [19, 20, 21],\n",
    "                                [22, 23, 24],\n",
    "                                ]\n",
    "                              ])"
   ],
   "metadata": {
    "collapsed": false
   }
  },
  {
   "cell_type": "code",
   "execution_count": 4,
   "outputs": [
    {
     "name": "stdout",
     "output_type": "stream",
     "text": [
      "torch_tensor3d average with for-loops: 12.5\n"
     ]
    }
   ],
   "source": [
    "avg_val_by_fors = calc_avg_val_by_fors(torch_tensor3d)\n",
    "print(\"torch_tensor3d average with for-loops: \"+str(avg_val_by_fors))"
   ],
   "metadata": {
    "collapsed": false
   }
  },
  {
   "cell_type": "markdown",
   "source": [
    "### Write code that indexes into torch_tensor3d and prints out the value 13."
   ],
   "metadata": {
    "collapsed": false
   }
  },
  {
   "cell_type": "code",
   "execution_count": 5,
   "outputs": [
    {
     "data": {
      "text/plain": "13"
     },
     "execution_count": 5,
     "metadata": {},
     "output_type": "execute_result"
    }
   ],
   "source": [
    "torch_tensor3d[2,0,0].item()"
   ],
   "metadata": {
    "collapsed": false
   }
  },
  {
   "cell_type": "markdown",
   "source": [
    "### For every power of 2, create a random matrix.\n",
    "Time how long it takes to compute XX on a CPU and on a GPU, and plot the speedup.\n",
    "For what matrix sizes is the CPU faster than the GPU"
   ],
   "metadata": {
    "collapsed": false
   }
  },
  {
   "cell_type": "code",
   "execution_count": 6,
   "outputs": [
    {
     "data": {
      "text/plain": "<AxesSubplot: >"
     },
     "execution_count": 6,
     "metadata": {},
     "output_type": "execute_result"
    },
    {
     "data": {
      "text/plain": "<Figure size 640x480 with 1 Axes>",
      "image/png": "[encoded data removed]"
     },
     "metadata": {},
     "output_type": "display_data"
    }
   ],
   "source": [
    "pof2 = []\n",
    "cpu = []\n",
    "gpu = []\n",
    "for i in range(1, 11):\n",
    "    c = torch.rand(2**i, 2**i, device=torch.device(\"cpu\"))\n",
    "    g = torch.rand(2**i, 2**i, device=torch.device(\"cuda\"))\n",
    "    time_cpu = timeit.timeit(\"c@c\", globals=globals(), number=100)\n",
    "    time_gpu = timeit.timeit(\"g@g\", globals=globals(), number=100)\n",
    "    pof2.append(i)\n",
    "    cpu.append(time_cpu)\n",
    "    gpu.append(time_gpu)\n",
    "\n",
    "sns.lineplot(x=pof2, y=cpu, label=\"cpu\")\n",
    "sns.lineplot(x=pof2, y=gpu, label=\"gpu\")"
   ],
   "metadata": {
    "collapsed": false
   }
  },
  {
   "cell_type": "markdown",
   "source": [
    "### We used PyTorch to find the numeric solution to $f(x) = (x−2)^2$\n",
    "Write code that finds the solution to $f(x) = sin(x − 2) * (x + 2)^2 + √|cos(x)|$.\n",
    "What answer do you get?"
   ],
   "metadata": {
    "collapsed": false
   }
  },
  {
   "cell_type": "code",
   "execution_count": 7,
   "outputs": [
    {
     "name": "stdout",
     "output_type": "stream",
     "text": [
      "tensor([1.0635])\n"
     ]
    }
   ],
   "source": [
    "def f(x):\n",
    "    a = torch.sin(x-2.0)\n",
    "    b = torch.pow(x+2, 2)\n",
    "    c = torch.cos(x)\n",
    "    return torch.add(torch.mul(a, b), torch.sqrt(torch.abs(c)))\n",
    "\n",
    "x_param = torch.nn.Parameter(torch.tensor([-3.0]), requires_grad=True)\n",
    "eta = 0.1\n",
    "optimizer = torch.optim.SGD([x_param], lr=eta)\n",
    "\n",
    "for epoch in range(100):\n",
    "    optimizer.zero_grad()\n",
    "    loss_incurred = f(x_param)\n",
    "    loss_incurred.backward()\n",
    "    optimizer.step()\n",
    "print(x_param.data)"
   ],
   "metadata": {
    "collapsed": false
   }
  },
  {
   "cell_type": "markdown",
   "source": [
    "### Write a new function that takes two inputs, x and y, where $f(x, y) = exp(sin(x)^2 / (x−y)^2) + (x−y)^2$\n",
    "Use an Optimizer with initial parameter values of $x=0.2$ and $y=10$\n",
    "What do they converge to?"
   ],
   "metadata": {
    "collapsed": false
   }
  },
  {
   "cell_type": "code",
   "execution_count": 8,
   "outputs": [
    {
     "name": "stdout",
     "output_type": "stream",
     "text": [
      "tensor([-15.5346])\n",
      "tensor([-14.6772])\n"
     ]
    }
   ],
   "source": [
    "def f(x, y):\n",
    "    a = torch.pow(torch.sin(x),2)\n",
    "    b = torch.pow(torch.sub(x, y),2)\n",
    "    return torch.add(torch.exp(torch.div(a,b)), b)\n",
    "\n",
    "x_param = torch.nn.Parameter(torch.tensor([0.2]), requires_grad=True)\n",
    "y_param = torch.nn.Parameter(torch.tensor([10.0]), requires_grad=True)\n",
    "eta = 0.1\n",
    "optimizer = torch.optim.SGD([x_param, y_param], lr=eta)\n",
    "\n",
    "for epoch in range(100):\n",
    "    optimizer.zero_grad()\n",
    "    loss_incurred = f(x_param, y_param)\n",
    "    loss_incurred.backward()\n",
    "    optimizer.step()\n",
    "print(x_param.data)\n",
    "print(y_param.data)"
   ],
   "metadata": {
    "collapsed": false
   }
  },
  {
   "cell_type": "markdown",
   "source": [
    "### Create a function libsvm2Dataset that takes a path to a libsvm dataset file\n",
    "(see https://www.csie.ntu.edu.tw/cjlin/libsvmtools/datasets/ for many that you can download) and create a new dataset object.\n",
    "Check that it is the correct length and that each row has the expected number of features.\n"
   ],
   "metadata": {
    "collapsed": false
   }
  },
  {
   "cell_type": "code",
   "execution_count": 9,
   "outputs": [],
   "source": [
    "from torch.utils.data import Dataset\n",
    "from sklearn.datasets import load_svmlight_file\n",
    "\n",
    "class SimpleDataset(Dataset):\n",
    "\n",
    "    def __init__(self, X, y):\n",
    "        super(SimpleDataset, self).__init__()\n",
    "        self.X = X\n",
    "        self.y = y\n",
    "\n",
    "    def __getitem__(self, index):\n",
    "        #This \"work\" could have gone in the constructor, but you should get into\n",
    "        inputs = torch.tensor(self.X.iloc[index,:], dtype=torch.float32)\n",
    "        targets = torch.tensor(int(self.y[index]), dtype=torch.int64)\n",
    "        return inputs, targets\n",
    "\n",
    "    def __len__(self):\n",
    "        # modified len function to renturn X and y shape\n",
    "        return self.X.shape, self.y.shape\n",
    "\n",
    "def libsvm2Dataset(path_to_dataset):\n",
    "    X, y = load_svmlight_file(path_to_dataset)\n",
    "    return SimpleDataset(X.toarray(), y)"
   ],
   "metadata": {
    "collapsed": false
   }
  },
  {
   "cell_type": "code",
   "execution_count": 10,
   "outputs": [
    {
     "name": "stdout",
     "output_type": "stream",
     "text": [
      "((60000, 780), (60000,))\n"
     ]
    }
   ],
   "source": [
    "dataset = libsvm2Dataset(\"mnist.bz2\")\n",
    "print(dataset.__len__())"
   ],
   "metadata": {
    "collapsed": false
   }
  },
  {
   "cell_type": "markdown",
   "source": [
    "### Challenging:\n",
    "Use NumPy’s memmap functionality to write the MNIST dataset to disk.\n",
    "Then create a MemmapedSimpleDataset that takes the mem-mapped file as input,\n",
    "reading the matrix from disk to create PyTorch tensors in the getitem method. Why do you think this would be useful?"
   ],
   "metadata": {
    "collapsed": false
   }
  },
  {
   "cell_type": "code",
   "execution_count": 11,
   "outputs": [],
   "source": [
    "dataset = libsvm2Dataset(\"mnist.bz2\")\n",
    "np_data = np.append(dataset.X, dataset.y.reshape(dataset.y.shape[0],1), axis=1)"
   ],
   "metadata": {
    "collapsed": false
   }
  },
  {
   "cell_type": "code",
   "execution_count": 12,
   "outputs": [
    {
     "name": "stdout",
     "output_type": "stream",
     "text": [
      "(60002, 781)\n"
     ]
    }
   ],
   "source": [
    "# save data to memmap format\n",
    "fp = np.memmap(\"mnist.npy\", dtype='float32', mode='w+', shape=(np.shape(np_data)[0]+2,np.shape(np_data)[1]))\n",
    "fp[0, :2] = [np.shape(np_data)[0]+2, np.shape(np_data)[1]]\n",
    "fp[2:,:] = np_data[:]\n",
    "print(fp.shape)\n",
    "fp.flush()\n",
    "del fp"
   ],
   "metadata": {
    "collapsed": false
   }
  },
  {
   "cell_type": "code",
   "execution_count": 13,
   "outputs": [],
   "source": [
    "# # just for explanation what will be implemented in our class\n",
    "# # load data in memmap format and reshape it\n",
    "# fpr = np.memmap(\"mnist.npy\", dtype='float32', mode='r')\n",
    "# # get original size\n",
    "# # fpr.reshape(60002,781)\n",
    "# row_size, col_size = fpr[0:2]\n",
    "# data = fpr.reshape(int(row_size), int(col_size))[2:]\n",
    "# X = data[:,:-1]\n",
    "# y = data[:,-1]\n",
    "# # print(data[10,:])\n",
    "# # print(data[10,:-1])\n",
    "# # print(data[10, -1])\n",
    "# #print(X[0])\n",
    "# #print(y[0])\n",
    "# del fpr"
   ],
   "metadata": {
    "collapsed": false
   }
  },
  {
   "cell_type": "code",
   "execution_count": 14,
   "outputs": [
    {
     "name": "stdout",
     "output_type": "stream",
     "text": [
      "values for tensor at index 6140: \n",
      "tensor([  0.,   0.,   0.,   0.,   0.,   0.,   0.,   0.,   0.,   0.,   0.,   0.,\n",
      "          0.,   0.,   0.,   0.,   0.,   0.,   0.,   0.,   0.,   0.,   0.,   0.,\n",
      "          0.,   0.,   0.,   0.,   0.,   0.,   0.,   0.,   0.,   0.,   0.,   0.,\n",
      "          0.,   0.,   0.,   0.,   0.,   0.,   0.,   0.,   0.,   0.,   0.,   0.,\n",
      "          0.,   0.,   0.,   0.,   0.,   0.,   0.,   0.,   0.,   0.,   0.,   0.,\n",
      "          0.,   0.,   0.,   0.,   0.,   0.,   0.,   0.,   0.,   0.,   0.,   0.,\n",
      "          0.,   0.,   0.,   0.,   0.,   0.,   0.,   0.,   0.,   0.,   0.,   0.,\n",
      "          0.,   0.,   0.,   0.,   0.,   0.,   0.,   0.,   0.,   0.,   0.,   0.,\n",
      "          0.,   0.,   0.,   0.,   0.,   0.,   0.,   0.,   0.,   0.,   0.,   0.,\n",
      "          0.,   0.,   0.,   0.,   0.,   0.,   0.,   0.,   0.,   0.,   0.,   0.,\n",
      "          0.,   0.,   0.,   0.,   0.,   0.,   0.,   0.,   0.,   0.,   0.,   0.,\n",
      "          0.,   0.,   0.,   0.,   0.,   0.,   0.,   0.,   0.,   0.,   0.,   0.,\n",
      "          0.,   0.,   0.,   0.,   0.,   0.,   0.,   0.,   0.,   0.,   0.,   0.,\n",
      "          0.,   0.,   0.,   0.,   0.,   0.,   0.,   0.,   0.,   0.,   0.,   0.,\n",
      "          0.,   0.,   0.,   0.,   0.,   0.,   0.,   0.,   0.,   0.,   3.,  24.,\n",
      "         24.,  66., 138., 202., 232., 138., 138.,  86.,  11.,   0.,   0.,   0.,\n",
      "          0.,   0.,   0.,   0.,   0.,   0.,   0.,   0.,   0.,   0.,   0.,  13.,\n",
      "        140., 161., 170., 252., 252., 252., 252., 253., 252., 252., 252., 252.,\n",
      "        140.,  17.,   0.,   0.,   0.,   0.,   0.,   0.,   0.,   0.,   0.,   0.,\n",
      "          0.,   0.,   0., 122., 252., 252., 253., 252., 252., 252., 252., 215.,\n",
      "        183., 234., 252., 252., 253., 175.,   0.,   0.,   0.,   0.,   0.,   0.,\n",
      "          0.,   0.,   0.,   0.,   0.,   0.,   0.,  44., 236., 252., 245., 160.,\n",
      "        128.,  45.,  45.,  74.,   0.,  33.,  45., 234., 253., 206.,   0.,   0.,\n",
      "          0.,   0.,   0.,   0.,   0.,   0.,   0.,   0.,   0.,   0.,   0.,   0.,\n",
      "         61., 242., 126.,   0.,   0.,   0.,   0.,   0.,   0.,   0.,   0., 178.,\n",
      "        253., 227.,  32.,   0.,   0.,   0.,   0.,   0.,   0.,   0.,   0.,   0.,\n",
      "          0.,   0.,   0.,   0.,   0.,  53.,   0.,   0.,   0.,   0.,   0.,   0.,\n",
      "          0.,   0.,   0., 231., 255., 207.,   0.,   0.,   0.,   0.,   0.,   0.,\n",
      "          0.,   0.,   0.,   0.,   0.,   0.,   0.,   0.,   0.,   0.,   0.,   0.,\n",
      "          0.,   0.,   0.,   0.,   0.,   0.,  81., 244., 253., 185.,   0.,   0.,\n",
      "          0.,   0.,   0.,   0.,   0.,   0.,   0.,   0.,   0.,   0.,   0.,   0.,\n",
      "          0.,   0.,   0.,   0.,   0.,   0.,   0.,   0.,   0.,  51., 240., 252.,\n",
      "        247.,  67.,   0.,   0.,   0.,   0.,   0.,   0.,   0.,   0.,   0.,   0.,\n",
      "          0.,   0.,   0.,   0.,   0.,   0.,   0.,   0.,   0.,   0.,   0.,   0.,\n",
      "         60., 188., 252., 252., 135.,   0.,   0.,   0.,   0.,   0.,   0.,   0.,\n",
      "          0.,   0.,   0.,   0.,   0.,   0.,   0.,   0.,   0.,   0.,   0.,   0.,\n",
      "          0.,   0.,   0.,  74., 244., 252., 252., 200.,  11.,   0.,   0.,   0.,\n",
      "          0.,   0.,   0.,   0.,   0.,   0.,   0.,   0.,   0.,   0.,   0.,   0.,\n",
      "          0.,   0.,   0.,   0.,   0.,   0.,   0., 255., 253., 253., 234.,  21.,\n",
      "          0.,   0.,   0.,   0.,   0.,   0.,   0.,   0.,   0.,   0.,   0.,   0.,\n",
      "          0.,   0.,   0.,   0.,   0.,   0.,   0.,   0.,   0.,  17.,  99., 253.,\n",
      "        252., 208.,  17.,   0.,   0.,   0.,   0.,   0.,   0.,   0.,   0.,   0.,\n",
      "          0.,   0.,   0.,   0.,   0.,   0.,   0.,   0.,   0.,   0.,   0.,   0.,\n",
      "         19., 136., 252., 253., 187.,  50.,   0.,   0.,   0.,   0.,   0.,   0.,\n",
      "          0.,   0.,   0.,   0.,   0.,   0.,   0.,   0.,   0.,   0.,   0.,   0.,\n",
      "          0.,   0.,   0.,  60., 188., 252., 252., 203.,  58.,   0.,   0.,   0.,\n",
      "          0.,   0.,   0.,   0.,   0.,   0.,   0.,   0.,   0.,   0.,   0.,   0.,\n",
      "          0.,   0.,   0.,   0.,   0.,   0.,  74., 244., 252., 252., 252.,  63.,\n",
      "          0.,   0.,   0.,   0.,   0.,   0.,   0.,   0.,   0.,   0.,   0.,   0.,\n",
      "          0.,   0.,   0.,   0.,   0.,   0.,   0.,   0.,   0.,  64., 255., 253.,\n",
      "        253., 192.,  63.,   0.,   0.,   0.,   0.,   0.,   0.,   0.,   0.,   0.,\n",
      "          0.,   0.,   0.,   0.,   0.,   0.,   0.,   0.,   0.,   0.,   0.,   0.,\n",
      "         81., 203., 253., 252., 134.,  17.,   0.,   0.,   0.,   0.,   0.,   0.,\n",
      "          0.,   0.,   0.,   0.,   0.,   0.,   0.,   0.,   0.,   0.,   0.,   0.,\n",
      "          0.,   0.,   0.,  19., 220., 252., 247., 110.,  19.,   0.,   0.,   0.,\n",
      "          0.,   0.,   0.,   0.,   0.,   0.,   0.,   0.,   0.,   0.,   0.,   0.,\n",
      "          0.,   0.,   0.,   0.,   0.,   0.,   0., 164., 252., 252., 188.,   0.,\n",
      "          0.,   0.,   0.,   0.,   0.,   0.,   0.,   0.,   0.,   0.,   0.,   0.,\n",
      "          0.,   0.,   0.,   0.,   0.,   0.,   0.,   0.,   0.,   0.,   0.,  48.,\n",
      "        137., 189.,  11.,   0.,   0.,   0.,   0.,   0.,   0.,   0.,   0.,   0.,\n",
      "          0.,   0.,   0.,   0.,   0.,   0.,   0.,   0.,   0.,   0.,   0.,   0.,\n",
      "          0.,   0.,   0.,   0.,   0.,   0.,   0.,   0.,   0.,   0.,   0.,   0.,\n",
      "          0.,   0.,   0.,   0.,   0.,   0.,   0.,   0.,   0.,   0.,   0.,   0.,\n",
      "          0.,   0.,   0.,   0.,   0.,   0.,   0.,   0.,   0.,   0.,   0.,   0.,\n",
      "          0.,   0.,   0.,   0.,   0.,   0.,   0.,   0.,   0.,   0.,   0.,   0.])\n",
      "label/targets for tensor at index 6140: tensor(7)\n"
     ]
    }
   ],
   "source": [
    "# create memmaped class\n",
    "class MemmapedSimpleDataset(Dataset):\n",
    "\n",
    "    def __init__(self, npy_file):\n",
    "        super(MemmapedSimpleDataset, self).__init__()\n",
    "        fpr = np.memmap(npy_file, dtype='float32', mode='r')\n",
    "        row_size, col_size = fpr[0:2]\n",
    "        data = fpr.reshape(int(row_size), int(col_size))[2:]\n",
    "        self.X = data[:,:-1]\n",
    "        self.y = data[:,-1]\n",
    "        del fpr\n",
    "\n",
    "    def __getitem__(self, index):\n",
    "        #This \"work\" could have gone in the constructor, but you should get into\n",
    "        inputs = torch.tensor(self.X[index], dtype=torch.float32)\n",
    "        targets = torch.tensor(int(self.y[index]), dtype=torch.int64)\n",
    "        return inputs, targets\n",
    "\n",
    "    def __len__(self):\n",
    "        return self.X.shape\n",
    "\n",
    "\n",
    "dataset = MemmapedSimpleDataset('mnist.npy')\n",
    "#X are features y are labels\n",
    "index = np.random.randint(0,dataset.__len__()[0])\n",
    "X, y = dataset[index]\n",
    "print(\"values for tensor at index \"+str(index)+\": \\n\"+str(X))\n",
    "print(\"label/targets for tensor at index \"+ str(index)+\": \"+str(y))\n"
   ],
   "metadata": {
    "collapsed": false
   }
  },
  {
   "cell_type": "markdown",
   "source": [
    "### Why do you think this would be useful?\n",
    "\n",
    "Memory-mapped files are used for accessing small segments of large files on disk, without reading the entire file into memory.\n",
    "(https://numpy.org/doc/stable/reference/generated/numpy.memmap.html)\n",
    "\n",
    "I'm able to reduce hardware usage (disk, ram) by accessing only necessary data on-demand.\n",
    "It helps to speedup my datatransfer from disc to ram to gpu and provides a boost for my ml training"
   ],
   "metadata": {
    "collapsed": false
   }
  },
  {
   "cell_type": "code",
   "execution_count": null,
   "outputs": [],
   "source": [],
   "metadata": {
    "collapsed": false
   }
  }
 ],
 "metadata": {
  "kernelspec": {
   "display_name": "Python 3",
   "language": "python",
   "name": "python3"
  },
  "language_info": {
   "codemirror_mode": {
    "name": "ipython",
    "version": 2
   },
   "file_extension": ".py",
   "mimetype": "text/x-python",
   "name": "python",
   "nbconvert_exporter": "python",
   "pygments_lexer": "ipython2",
   "version": "2.7.6"
  }
 },
 "nbformat": 4,
 "nbformat_minor": 0
}
