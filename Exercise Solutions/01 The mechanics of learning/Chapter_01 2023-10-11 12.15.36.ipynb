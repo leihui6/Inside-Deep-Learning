{
 "cells": [
  {
   "cell_type": "code",
   "execution_count": 9,
   "metadata": {
    "colab": {
     "base_uri": "https://localhost:8080/"
    },
    "id": "bfGX985EjyJt",
    "outputId": "7ca10b6f-6cfe-48e8-8acb-b7fd7e6339ac"
   },
   "outputs": [
    {
     "name": "stdout",
     "output_type": "stream",
     "text": [
      "Looking in indexes: https://pypi.org/simple, https://us-python.pkg.dev/colab-wheels/public/simple/\n",
      "Requirement already satisfied: libsvmdata in /usr/local/lib/python3.8/dist-packages (0.4.1)\n",
      "Requirement already satisfied: scikit-learn in /usr/local/lib/python3.8/dist-packages (from libsvmdata) (1.0.2)\n",
      "Requirement already satisfied: download in /usr/local/lib/python3.8/dist-packages (from libsvmdata) (0.3.5)\n",
      "Requirement already satisfied: numpy>=1.12 in /usr/local/lib/python3.8/dist-packages (from libsvmdata) (1.21.6)\n",
      "Requirement already satisfied: scipy in /usr/local/lib/python3.8/dist-packages (from libsvmdata) (1.7.3)\n",
      "Requirement already satisfied: six in /usr/local/lib/python3.8/dist-packages (from download->libsvmdata) (1.15.0)\n",
      "Requirement already satisfied: requests in /usr/local/lib/python3.8/dist-packages (from download->libsvmdata) (2.23.0)\n",
      "Requirement already satisfied: tqdm in /usr/local/lib/python3.8/dist-packages (from download->libsvmdata) (4.64.1)\n",
      "Requirement already satisfied: chardet<4,>=3.0.2 in /usr/local/lib/python3.8/dist-packages (from requests->download->libsvmdata) (3.0.4)\n",
      "Requirement already satisfied: urllib3!=1.25.0,!=1.25.1,<1.26,>=1.21.1 in /usr/local/lib/python3.8/dist-packages (from requests->download->libsvmdata) (1.24.3)\n",
      "Requirement already satisfied: certifi>=2017.4.17 in /usr/local/lib/python3.8/dist-packages (from requests->download->libsvmdata) (2022.12.7)\n",
      "Requirement already satisfied: idna<3,>=2.5 in /usr/local/lib/python3.8/dist-packages (from requests->download->libsvmdata) (2.10)\n",
      "Requirement already satisfied: threadpoolctl>=2.0.0 in /usr/local/lib/python3.8/dist-packages (from scikit-learn->libsvmdata) (3.1.0)\n",
      "Requirement already satisfied: joblib>=0.11 in /usr/local/lib/python3.8/dist-packages (from scikit-learn->libsvmdata) (1.2.0)\n"
     ]
    }
   ],
   "source": [
    "import seaborn as sns \n",
    "import matplotlib.pyplot as plt \n",
    "import numpy as np\n",
    "import tqdm\n",
    "import pandas as pd\n",
    "import torch\n",
    "\n",
    "from torch.utils.data import Dataset\n",
    "from sklearn.datasets import fetch_openml\n",
    "import timeit\n",
    "\n",
    "!pip install libsvmdata\n",
    "\n",
    "from libsvmdata import fetch_libsvm\n",
    "\n",
    "torch_tensor3d = torch.tensor([ \n",
    "                             [ \n",
    "                             [ 1, 2, 3], \n",
    "                             [ 4, 5, 6], \n",
    "                             ], \n",
    "                             [ \n",
    "                             [ 7, 8, 9], \n",
    "                             [10, 11, 12], \n",
    "                             ], \n",
    "                             [ \n",
    "                             [13, 14, 15], \n",
    "                             [16, 17, 18], \n",
    "                             ], \n",
    "                             [\n",
    "                             [19, 20, 21],\n",
    "                             [22, 23, 24],\n",
    "                             ] \n",
    "                            ])\n",
    "\n",
    "def moveTo(obj, device): \n",
    "    \"\"\" \n",
    "    obj: the python object to move to a device, or to move its\n",
    "    ➥ contents to a device\n",
    "    device: the compute device to move objects to \n",
    "    \"\"\"\n",
    "    if isinstance(obj, list): \n",
    "        return [moveTo(x, device) for x in obj] \n",
    "    elif isinstance(obj, tuple): \n",
    "        return tuple(moveTo(list(obj), device)) \n",
    "    elif isinstance(obj, set): \n",
    "        return set(moveTo(list(obj), device)) \n",
    "    elif isinstance(obj, dict): \n",
    "        to_ret = dict() \n",
    "        for key, value in obj.items(): \n",
    "            to_ret[moveTo(key, device)] = moveTo(value, device) \n",
    "        return to_ret \n",
    "    elif hasattr(obj, \"to\"): \n",
    "        return obj.to(device) \n",
    "    else: \n",
    "        return obj\n",
    "\n",
    "class SimpleDataset(Dataset):\n",
    "\n",
    "    def __init__(self, X, y): \n",
    "        super(SimpleDataset, self).__init__()\n",
    "        self.X = X \n",
    "        self.y = y\n",
    "\n",
    "    def __getitem__(self, index): \n",
    "        inputs = torch.tensor(self.X.iloc[index, :], dtype=torch.float32)\n",
    "        targets = torch.tensor(int(self.y[index]), dtype=torch.int64) \n",
    "        return inputs, targets\n",
    "\n",
    "    def __len__(self): \n",
    "        return self.X.shape[0]         "
   ]
  },
  {
   "cell_type": "code",
   "execution_count": 1,
   "metadata": {
    "colab": {
     "base_uri": "https://localhost:8080/"
    },
    "id": "pWAAHXTWkFmC",
    "outputId": "87d68378-dd6e-4c67-b93d-cf3d891c09b4"
   },
   "outputs": [
    {
     "ename": "NameError",
     "evalue": "name 'torch_tensor3d' is not defined",
     "output_type": "error",
     "traceback": [
      "\u001b[1;31m---------------------------------------------------------------------------\u001b[0m",
      "\u001b[1;31mNameError\u001b[0m                                 Traceback (most recent call last)",
      "Cell \u001b[1;32mIn [1], line 9\u001b[0m\n\u001b[0;32m      7\u001b[0m   \u001b[38;5;28;01mfor\u001b[39;00m j \u001b[38;5;129;01min\u001b[39;00m \u001b[38;5;28mrange\u001b[39m(d2):\n\u001b[0;32m      8\u001b[0m     \u001b[38;5;28;01mfor\u001b[39;00m k \u001b[38;5;129;01min\u001b[39;00m \u001b[38;5;28mrange\u001b[39m(d3):\n\u001b[1;32m----> 9\u001b[0m       \u001b[38;5;28msum\u001b[39m \u001b[38;5;241m=\u001b[39m \u001b[38;5;28msum\u001b[39m \u001b[38;5;241m+\u001b[39m \u001b[43mtorch_tensor3d\u001b[49m[i,j,k]\n\u001b[0;32m     10\u001b[0m \u001b[38;5;28mprint\u001b[39m(\u001b[38;5;28msum\u001b[39m \u001b[38;5;241m/\u001b[39m (d1 \u001b[38;5;241m*\u001b[39m d2 \u001b[38;5;241m*\u001b[39m d3))\n",
      "\u001b[1;31mNameError\u001b[0m: name 'torch_tensor3d' is not defined"
     ]
    }
   ],
   "source": [
    "# Write a series of for loops that compute the average value in torch_tensor3d.\n",
    "d1 = 4\n",
    "d2 = 2\n",
    "d3 = 3\n",
    "sum = 0\n",
    "for i in range(d1):\n",
    "  for j in range(d2):\n",
    "    for k in range(d3):\n",
    "      sum = sum + torch_tensor3d[i,j,k]\n",
    "print(sum / (d1 * d2 * d3))"
   ]
  },
  {
   "cell_type": "code",
   "execution_count": 3,
   "metadata": {
    "colab": {
     "base_uri": "https://localhost:8080/"
    },
    "id": "KC6utjvMkOTy",
    "outputId": "d836a995-4128-4d01-e9e3-60bb4af4040a"
   },
   "outputs": [
    {
     "name": "stdout",
     "output_type": "stream",
     "text": [
      "tensor(13)\n"
     ]
    }
   ],
   "source": [
    "# Write code that indexes into torch_tensor3d and prints out the value 13. \n",
    "print(torch_tensor3d[2, 0, 0])"
   ]
  },
  {
   "cell_type": "code",
   "execution_count": 5,
   "metadata": {
    "colab": {
     "base_uri": "https://localhost:8080/",
     "height": 282
    },
    "id": "J0GCAg5_kYGS",
    "outputId": "b19d7245-6e5a-4293-c1da-e2bf28e1a2b6"
   },
   "outputs": [
    {
     "data": {
      "text/plain": [
       "<matplotlib.axes._subplots.AxesSubplot at 0x7f9b1bd40100>"
      ]
     },
     "execution_count": 5,
     "metadata": {},
     "output_type": "execute_result"
    },
    {
     "data": {
      "image/png": "[encoded data removed]",
      "text/plain": [
       "<Figure size 432x288 with 1 Axes>"
      ]
     },
     "metadata": {
      "needs_background": "light"
     },
     "output_type": "display_data"
    }
   ],
   "source": [
    "# For every power of 2 (i.e., 2i or 2**i ) up to 211, create a random matrix X ∈ ℝ2i, 2i (i.e., X.shape should give (2**i, 2**i)).\n",
    "# Time how long it takes to compute XX (i.e., X @ X) on a CPU and on a GPU, and plot the speedup.\n",
    "# For what matrix sizes is the CPU faster than the GPU? \n",
    "\n",
    "result_cpu = np.empty((12, 2))\n",
    "for i in range(12):\n",
    "  X = np.random.random((2**i,2**i)) \n",
    "  time_cpu = timeit.timeit(\"X@X\", globals=globals(), number=100)\n",
    "  result_cpu[i, 0] = i\n",
    "  result_cpu[i, 1] = time_cpu\n",
    "\n",
    "if torch.cuda.is_available():\n",
    "  print(\"GPU acceleration is available\")\n",
    "  device = torch.device(\"cuda\") \n",
    "  result_gpu = np.empty((12, 2))\n",
    "  for i in range(12):\n",
    "    X = np.random.random((2**i,2**i)) \n",
    "    X = moveTo(X, device) \n",
    "    time_gpu = timeit.timeit(\"X@X\", globals=globals(), number=100)\n",
    "    result_gpu[i, 0] = i\n",
    "    result_gpu[i, 1] = time_gpu\n",
    "    if result_cpu[i, 1] > result_gpu[i, 1]:\n",
    "      print(f\"2^{i}: GPU wins\")\n",
    "    else:\n",
    "      print(f\"2^{i}: CPU wins\")   \n",
    "  sns.lineplot(x=result_gpu[:,0], y=result_gpu[:,1], label='gpu')  \n",
    "\n",
    "sns.lineplot(x=result_cpu[:,0], y=result_cpu[:,1], label='cpu')"
   ]
  },
  {
   "cell_type": "code",
   "execution_count": 6,
   "metadata": {
    "colab": {
     "base_uri": "https://localhost:8080/"
    },
    "id": "vXlrWJ4Pkjcd",
    "outputId": "c3f37a88-0074-44fa-aa61-9bb2cdcf692c"
   },
   "outputs": [
    {
     "name": "stdout",
     "output_type": "stream",
     "text": [
      "x: tensor([1.0635]) f(x): tensor([-6.8625])\n"
     ]
    }
   ],
   "source": [
    "# We used PyTorch to find the numeric solution to f(x) = (x−2)2.\n",
    "# Write code that finds the solution to f(x) = sin(x − 2) · (x + 2)2 + √|cos(x)|.\n",
    "# What answer doyou get? \n",
    "\n",
    "def f(x):\n",
    "  return torch.multiply(torch.sin((x-2.0)), torch.pow(x + 2.0, 2)) + torch.sqrt(torch.abs(torch.cos(x)))\n",
    "\n",
    "x_param = torch.nn.Parameter(torch.tensor([-3.0]), requires_grad=True)\n",
    "optimizer = torch.optim.SGD([x_param], lr=0.1)\n",
    "\n",
    "for epoch in range(100): \n",
    "    optimizer.zero_grad()\n",
    "    loss_incurred = f(x_param) \n",
    "    loss_incurred.backward() \n",
    "    optimizer.step()\n",
    "print(\"x:\", x_param.data, \"f(x):\", f(x_param.data))"
   ]
  },
  {
   "cell_type": "code",
   "execution_count": 7,
   "metadata": {
    "colab": {
     "base_uri": "https://localhost:8080/"
    },
    "id": "vNmdjUqIknFs",
    "outputId": "504bd325-aacc-4b90-d8dd-ee7113817281"
   },
   "outputs": [
    {
     "name": "stdout",
     "output_type": "stream",
     "text": [
      "x: tensor([3.1419]) y: tensor([4.1419]) f(x, y): tensor([2.])\n"
     ]
    }
   ],
   "source": [
    "# Write a new function that takes two inputs, x and y, where f(x, y) = exp (sin(x)2)/(x−y)2 + (x−y)2 \n",
    "# Use an Optimizer with initial parameter values of x = 0.2 and y = 10.\n",
    "# What do they converge to? \n",
    "\n",
    "def f(x, y):\n",
    "  return torch.divide(torch.exp(torch.pow(torch.sin(x), 2.0)),\\\n",
    "                      torch.pow((x - y), 2.0)) +\\\n",
    "                      torch.pow((x - y), 2.0)\n",
    "x_param = torch.nn.Parameter(torch.tensor([0.2]), requires_grad=True)                      \n",
    "y_param = torch.nn.Parameter(torch.tensor([10.0]), requires_grad=True)    \n",
    "\n",
    "optimizer = torch.optim.SGD([x_param, y_param], lr=0.1)\n",
    "\n",
    "for epoch in range(100): \n",
    "    optimizer.zero_grad()\n",
    "    loss_incurred = f(x_param, y_param) \n",
    "    loss_incurred.backward() \n",
    "    optimizer.step()\n",
    "print(\"x:\", x_param.data, \"y:\", y_param.data,\"f(x, y):\", f(x_param.data, y_param.data))"
   ]
  },
  {
   "cell_type": "code",
   "execution_count": 10,
   "metadata": {
    "colab": {
     "base_uri": "https://localhost:8080/"
    },
    "id": "xaJ_GzL2ksxR",
    "outputId": "1d5ee616-f12a-4988-f40c-31174bef77f0"
   },
   "outputs": [
    {
     "name": "stdout",
     "output_type": "stream",
     "text": [
      "(7395, 1836)\n",
      "(7395, 159)\n"
     ]
    }
   ],
   "source": [
    "# Create a function libsvm2Dataset that takes a path to a libsvm dataset file \n",
    "# (see https://www.csie.ntu.edu.tw/ cjlin/libsvmtools/datasets/ for many that you can download)\n",
    "# and create a new dataset object.\n",
    "# Check that it is the correct length and that each row has the expected number of features. \n",
    "\n",
    "def libsvm2Dataset(datasetName):\n",
    "  X, y = fetch_libsvm(datasetName)\n",
    "  return SimpleDataset(X, y)\n",
    "\n",
    "dataset = libsvm2Dataset('bibtex')\n",
    "print (dataset.X.shape)\n",
    "print (dataset.y.shape)"
   ]
  },
  {
   "cell_type": "code",
   "execution_count": 11,
   "metadata": {
    "colab": {
     "base_uri": "https://localhost:8080/"
    },
    "id": "sKs8CRmQkwlB",
    "outputId": "b6d14cc6-29e6-43a6-bd76-09320683eb12"
   },
   "outputs": [
    {
     "name": "stdout",
     "output_type": "stream",
     "text": [
      "70000\n",
      "Features:  torch.Size([784])\n",
      "Label of index 0:  tensor(5)\n"
     ]
    }
   ],
   "source": [
    "# Challenging: Use NumPy’s memmap functionality to write the MNIST dataset to disk.\n",
    "# Then create a MemmapedSimpleDataset that takes the mem-mapped file as input,\n",
    "# reading the matrix from disk to create PyTorch tensors in the __getitem__ method. Why do you think this would be useful? \n",
    "\n",
    "# Load minst data first\n",
    "X, y = fetch_openml('mnist_784', version=1, return_X_y=True)\n",
    "\n",
    "# Save data and shape into new file\n",
    "targetFile = np.memmap('array.npy', dtype='float32', mode='w+', shape=(X.shape[0] + 1, X.shape[1] + 1))\n",
    "targetFile[0, :2] = X.shape\n",
    "targetFile[1:, :-1] = X[:]\n",
    "targetFile[1:, -1] = y[:]\n",
    "\n",
    "\n",
    "# Solution itself\n",
    "class MemmapedSimpleDataset(Dataset):\n",
    "\n",
    "    def __init__(self, fileName): \n",
    "      super(MemmapedSimpleDataset, self).__init__()\n",
    "      self.fileName = fileName\n",
    "\n",
    "    def __getitem__(self, index): \n",
    "      openFile = np.memmap(self.fileName, dtype='float32', mode='r')\n",
    "      xshape = np.int_(openFile[:2])\n",
    "      openFile._mmap.close()\n",
    "      xshape[1]+=1\n",
    "      sourceFile = np.memmap(self.fileName, dtype='float32', mode='r', shape=tuple(xshape))\n",
    "      inputs = torch.tensor(sourceFile[index + 1, :-1], dtype=torch.float32)\n",
    "      targets = torch.tensor(int(sourceFile[index + 1, -1]), dtype=torch.int64) \n",
    "      return inputs, targets\n",
    "\n",
    "    def __len__(self): \n",
    "      openFile = np.memmap(self.fileName, dtype='float32', mode='r')\n",
    "      xshape = np.int_(openFile[:2])\n",
    "      openFile._mmap.close()\n",
    "      return xshape[0] \n",
    "\n",
    "mmds = MemmapedSimpleDataset('array.npy')\n",
    "print(len(mmds))\n",
    "example, label = mmds[0]\n",
    "print(\"Features: \", example.shape)\n",
    "print(\"Label of index 0: \", label) "
   ]
  }
 ],
 "metadata": {
  "colab": {
   "provenance": []
  },
  "kernelspec": {
   "display_name": "Python 3 (ipykernel)",
   "language": "python",
   "name": "python3"
  },
  "language_info": {
   "codemirror_mode": {
    "name": "ipython",
    "version": 3
   },
   "file_extension": ".py",
   "mimetype": "text/x-python",
   "name": "python",
   "nbconvert_exporter": "python",
   "pygments_lexer": "ipython3",
   "version": "3.9.13"
  }
 },
 "nbformat": 4,
 "nbformat_minor": 1
}
