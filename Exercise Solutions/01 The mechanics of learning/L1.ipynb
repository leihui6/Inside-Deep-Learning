{
 "cells": [
  {
   "cell_type": "code",
   "execution_count": 3,
   "id": "50c87b9f-3010-4683-8b6e-83f80ad5751f",
   "metadata": {},
   "outputs": [
    {
     "name": "stdout",
     "output_type": "stream",
     "text": [
      "torch.Size([])\n"
     ]
    }
   ],
   "source": [
    "import torch\n",
    "torch_scaler = torch.tensor(3.14)\n",
    "print(torch_scaler.shape)"
   ]
  },
  {
   "cell_type": "code",
   "execution_count": 5,
   "id": "94e65e94-56a6-436e-b3d1-45d2ec5be180",
   "metadata": {},
   "outputs": [
    {
     "name": "stdout",
     "output_type": "stream",
     "text": [
      "torch.Size([])\n",
      "torch.Size([4, 2, 3])\n"
     ]
    }
   ],
   "source": [
    "import torch\n",
    "torch_scaler = torch.tensor(3.14)\n",
    "print(torch_scaler.shape)\n",
    "torch_tensor3d = torch.tensor([\n",
    "[\n",
    "[1,2,3],\n",
    "[4,5,6],\n",
    "],\n",
    "[\n",
    "[7,8,9],\n",
    "[10,11,12],\n",
    "],\n",
    "[\n",
    "[13, 14, 15],\n",
    "[16 , 17,18],\n",
    "],\n",
    "[\n",
    "[19, 20, 21 ],\n",
    "[22 ,23, 24],\n",
    "]\n",
    " ])\n",
    "print(torch_tensor3d.shape)"
   ]
  },
  {
   "cell_type": "code",
   "execution_count": 11,
   "id": "400c5cac-006a-4ade-8181-ac5650934893",
   "metadata": {},
   "outputs": [
    {
     "name": "stdout",
     "output_type": "stream",
     "text": [
      "tensor(13)\n"
     ]
    }
   ],
   "source": [
    "print (torch_tensor3d[2,0,0])"
   ]
  },
  {
   "cell_type": "code",
   "execution_count": null,
   "id": "13f68855-9196-4f63-8808-74f02035d2fb",
   "metadata": {},
   "outputs": [],
   "source": []
  }
 ],
 "metadata": {
  "kernelspec": {
   "display_name": "Python 3 (ipykernel)",
   "language": "python",
   "name": "python3"
  },
  "language_info": {
   "codemirror_mode": {
    "name": "ipython",
    "version": 3
   },
   "file_extension": ".py",
   "mimetype": "text/x-python",
   "name": "python",
   "nbconvert_exporter": "python",
   "pygments_lexer": "ipython3",
   "version": "3.10.12"
  }
 },
 "nbformat": 4,
 "nbformat_minor": 5
}
